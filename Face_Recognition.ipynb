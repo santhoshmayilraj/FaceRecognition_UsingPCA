{
 "cells": [
  {
   "cell_type": "markdown",
   "id": "38fbbff1548cf532",
   "metadata": {
    "collapsed": false
   },
   "source": [
    "--- \n",
    "### Importing The Necessary-Libraries\n",
    "---"
   ]
  },
  {
   "cell_type": "code",
   "execution_count": 2,
   "id": "initial_id",
   "metadata": {
    "ExecuteTime": {
     "end_time": "2024-06-03T09:24:42.063956Z",
     "start_time": "2024-06-03T09:24:41.355639Z"
    },
    "collapsed": true
   },
   "outputs": [],
   "source": [
    "import cv2\n",
    "import time\n",
    "import numpy as np\n",
    "\n",
    "\n",
    "# importing algorithms\n",
    "from PCA import pca_class\n",
    "\n",
    "# importing feature extraction classes\n",
    "from images_to_matrix import images_to_matrix_class\n",
    "from dataset import dataset_class"
   ]
  },
  {
   "cell_type": "markdown",
   "id": "e54cde54dff4dedb",
   "metadata": {
    "collapsed": false
   },
   "source": [
    "--- \n",
    "### Choosing The Algorithm To Be Applied\n",
    "---"
   ]
  },
  {
   "cell_type": "code",
   "execution_count": 3,
   "id": "da35042c9b8d8b82",
   "metadata": {
    "ExecuteTime": {
     "end_time": "2024-06-03T09:24:42.382949Z",
     "start_time": "2024-06-03T09:24:42.377018Z"
    },
    "collapsed": false
   },
   "outputs": [],
   "source": [
    "algo_type = \"pca\""
   ]
  },
  {
   "cell_type": "markdown",
   "id": "efbdd287f647dac0",
   "metadata": {
    "collapsed": false
   },
   "source": [
    "--- \n",
    "### Choosing The input-type\n",
    "---"
   ]
  },
  {
   "cell_type": "code",
   "execution_count": 4,
   "id": "b3826d8ff158da7e",
   "metadata": {
    "ExecuteTime": {
     "end_time": "2024-06-03T09:24:43.287677Z",
     "start_time": "2024-06-03T09:24:43.283730Z"
    },
    "collapsed": false
   },
   "outputs": [],
   "source": [
    "#for single image = 0\n",
    "#for video = 1\n",
    "#for group image = 2\n",
    "reco_type = 1"
   ]
  },
  {
   "cell_type": "markdown",
   "id": "a1798139c669c91f",
   "metadata": {
    "collapsed": false
   },
   "source": [
    "--- \n",
    "### Splitting the images as training and testing DATA\n",
    "---"
   ]
  },
  {
   "cell_type": "code",
   "execution_count": 5,
   "id": "a42d661c602323ca",
   "metadata": {
    "ExecuteTime": {
     "end_time": "2024-06-03T09:24:43.850657Z",
     "start_time": "2024-06-03T09:24:43.837426Z"
    },
    "collapsed": false
   },
   "outputs": [],
   "source": [
    "#No of images For Training(Left will be used as testing Image)\n",
    "no_of_images_of_one_person = 8\n",
    "dataset_obj = dataset_class(no_of_images_of_one_person)"
   ]
  },
  {
   "cell_type": "markdown",
   "id": "95d5e4debd3ec6d9",
   "metadata": {
    "collapsed": false
   },
   "source": [
    "--- \n",
    "### Extracting data For Training\n",
    "---"
   ]
  },
  {
   "cell_type": "code",
   "execution_count": 6,
   "id": "34faef70a4e69e5b",
   "metadata": {
    "ExecuteTime": {
     "end_time": "2024-06-03T09:24:44.645720Z",
     "start_time": "2024-06-03T09:24:44.642666Z"
    },
    "collapsed": false
   },
   "outputs": [],
   "source": [
    "#Data For Training\n",
    "images_names = dataset_obj.images_name_for_train\n",
    "y = dataset_obj.y_for_train\n",
    "no_of_elements = dataset_obj.no_of_elements_for_train\n",
    "target_names = dataset_obj.target_name_as_array"
   ]
  },
  {
   "cell_type": "markdown",
   "id": "108312761ba4642",
   "metadata": {
    "collapsed": false
   },
   "source": [
    "--- \n",
    "### Extracting data For Testing\n",
    "---"
   ]
  },
  {
   "cell_type": "code",
   "execution_count": 7,
   "id": "fab1ac40cb03f54d",
   "metadata": {
    "ExecuteTime": {
     "end_time": "2024-06-03T09:24:47.412319Z",
     "start_time": "2024-06-03T09:24:47.406660Z"
    },
    "collapsed": false
   },
   "outputs": [],
   "source": [
    "#Data For Testing\n",
    "images_names_for_test = dataset_obj.images_name_for_test\n",
    "y_for_test = dataset_obj.y_for_test\n",
    "no_of_elements_for_test = dataset_obj.no_of_elements_for_test"
   ]
  },
  {
   "cell_type": "markdown",
   "id": "74ee4c5c839699e6",
   "metadata": {
    "collapsed": false
   },
   "source": [
    "--- \n",
    "### Getting the Final-Matrix For Applying PCA\n",
    "---"
   ]
  },
  {
   "cell_type": "code",
   "execution_count": 8,
   "id": "a9ba844bb4e2e96a",
   "metadata": {
    "ExecuteTime": {
     "end_time": "2024-06-03T09:25:43.852365Z",
     "start_time": "2024-06-03T09:25:41.016430Z"
    },
    "collapsed": false
   },
   "outputs": [],
   "source": [
    "img_width, img_height = 50, 50\n",
    "i_t_m_c = images_to_matrix_class(images_names, img_width, img_height)\n",
    "scaled_face = i_t_m_c.get_matrix()"
   ]
  },
  {
   "cell_type": "markdown",
   "id": "ce2c8c892e87c409",
   "metadata": {
    "collapsed": false
   },
   "source": [
    "--- \n",
    "### Applying PCA on the above Matrix\n",
    "---"
   ]
  },
  {
   "cell_type": "code",
   "execution_count": 9,
   "id": "d2884dadfd76e091",
   "metadata": {
    "ExecuteTime": {
     "end_time": "2024-06-03T09:25:45.254979Z",
     "start_time": "2024-06-03T09:25:43.852365Z"
    },
    "collapsed": false
   },
   "outputs": [],
   "source": [
    "my_algo = pca_class(scaled_face, y, target_names, no_of_elements, 90)\n",
    "new_coordinates = my_algo.reduce_dim() #this is the new-coordinates"
   ]
  },
  {
   "cell_type": "markdown",
   "id": "c91ec0ab0c4cade1",
   "metadata": {
    "collapsed": false
   },
   "source": [
    "--- \n",
    "### Displaying Original-Image Of Person-1\n",
    "---"
   ]
  },
  {
   "cell_type": "code",
   "execution_count": 11,
   "id": "6eca3c98d2353ff4",
   "metadata": {
    "ExecuteTime": {
     "end_time": "2024-06-03T09:40:04.331863Z",
     "start_time": "2024-06-03T09:40:02.323699Z"
    },
    "collapsed": false
   },
   "outputs": [
    {
     "data": {
      "text/plain": [
       "-1"
      ]
     },
     "execution_count": 11,
     "metadata": {},
     "output_type": "execute_result"
    }
   ],
   "source": [
    "cv2.imshow(\"Original Image\" , cv2.resize(np.array(np.reshape(scaled_face[:,1],[img_height, img_width]), dtype = np.uint8),(200, 200)))\n",
    "cv2.waitKey()"
   ]
  },
  {
   "cell_type": "markdown",
   "id": "876627095a7b0af0",
   "metadata": {
    "collapsed": false
   },
   "source": [
    "--- \n",
    "### Displaying Eigen-Image Of Person-1\n",
    "---"
   ]
  },
  {
   "cell_type": "code",
   "execution_count": 12,
   "id": "271dc243b3434b05",
   "metadata": {
    "ExecuteTime": {
     "end_time": "2024-06-03T09:40:09.037271Z",
     "start_time": "2024-06-03T09:40:06.300881Z"
    },
    "collapsed": false
   },
   "outputs": [],
   "source": [
    "my_algo.show_eigen_face(img_width, img_height, 50, 150, 0)"
   ]
  },
  {
   "cell_type": "markdown",
   "id": "2322ad0b3d3229fd",
   "metadata": {
    "collapsed": false
   },
   "source": [
    "--- \n",
    "### Displaying PCA-Image Of Person-1\n",
    "---"
   ]
  },
  {
   "cell_type": "code",
   "execution_count": 13,
   "id": "852b07d088662f55",
   "metadata": {
    "ExecuteTime": {
     "end_time": "2024-06-03T09:40:13.083767Z",
     "start_time": "2024-06-03T09:40:10.862107Z"
    },
    "collapsed": false
   },
   "outputs": [
    {
     "data": {
      "text/plain": [
       "-1"
      ]
     },
     "execution_count": 13,
     "metadata": {},
     "output_type": "execute_result"
    }
   ],
   "source": [
    "cv2.imshow(\"After PCA Image\", cv2.resize(np.array(np.reshape(my_algo.original_data(new_coordinates[1, :]), [img_height, img_width]), dtype = np.uint8), (200, 200)))\n",
    "cv2.waitKey()"
   ]
  },
  {
   "cell_type": "markdown",
   "id": "fff2a16a7a04f479",
   "metadata": {
    "collapsed": false
   },
   "source": [
    "--- \n",
    "### Testing The Model With the Images\n",
    "---"
   ]
  },
  {
   "cell_type": "code",
   "execution_count": 14,
   "id": "87812785a2d1e9e4",
   "metadata": {
    "ExecuteTime": {
     "end_time": "2024-06-03T09:40:16.320480Z",
     "start_time": "2024-06-03T09:40:14.535595Z"
    },
    "collapsed": false
   },
   "outputs": [
    {
     "name": "stdout",
     "output_type": "stream",
     "text": [
      "Person 0 : 1 Kabilan\n",
      "Wrong:  Real Name: Gowtham Rec Y: 0 Find Name: Kabilan\n",
      "Person 0 : 0 Gowtham\n",
      "Correct  Name: Gowtham\n",
      "Person 0 : 0 Gowtham\n",
      "Correct  Name: Gowtham\n",
      "Person 0 : 2 Kaniskh\n",
      "Wrong:  Real Name: Kabilan Rec Y: 1 Find Name: Kaniskh\n",
      "Person 0 : 1 Kabilan\n",
      "Correct  Name: Kabilan\n",
      "Person 0 : 2 Kaniskh\n",
      "Correct  Name: Kaniskh\n",
      "Person 0 : 2 Kaniskh\n",
      "Correct  Name: Kaniskh\n",
      "Person 0 : 3 kathir\n",
      "Correct  Name: kathir\n",
      "Person 0 : 4 Nila\n",
      "Correct  Name: Nila\n",
      "Person 0 : 4 Nila\n",
      "Correct  Name: Nila\n",
      "Person 0 : 4 Nila\n",
      "Correct  Name: Nila\n",
      "Person 0 : 5 p1\n",
      "Correct  Name: p1\n",
      "Person 0 : 5 p1\n",
      "Correct  Name: p1\n",
      "Person 0 : 6 p10\n",
      "Correct  Name: p10\n",
      "Person 0 : 6 p10\n",
      "Correct  Name: p10\n",
      "Person 0 : 7 p11\n",
      "Correct  Name: p11\n",
      "Person 0 : 7 p11\n",
      "Correct  Name: p11\n",
      "Person 0 : 8 p12\n",
      "Correct  Name: p12\n",
      "Person 0 : 8 p12\n",
      "Correct  Name: p12\n",
      "Person 0 : 9 p13\n",
      "Correct  Name: p13\n",
      "Person 0 : 9 p13\n",
      "Correct  Name: p13\n",
      "Person 0 : 10 p14\n",
      "Correct  Name: p14\n",
      "Person 0 : 10 p14\n",
      "Correct  Name: p14\n",
      "Person 0 : 22 p25\n",
      "Wrong:  Real Name: p15 Rec Y: 11 Find Name: p25\n",
      "Person 0 : 11 p15\n",
      "Correct  Name: p15\n",
      "Person 0 : 12 p16\n",
      "Correct  Name: p16\n",
      "Person 0 : 12 p16\n",
      "Correct  Name: p16\n",
      "Person 0 : 13 p17\n",
      "Correct  Name: p17\n",
      "Person 0 : 13 p17\n",
      "Correct  Name: p17\n",
      "Person 0 : 14 p18\n",
      "Correct  Name: p18\n",
      "Person 0 : 14 p18\n",
      "Correct  Name: p18\n",
      "Person 0 : 15 p19\n",
      "Correct  Name: p19\n",
      "Person 0 : 15 p19\n",
      "Correct  Name: p19\n",
      "Person 0 : 16 p2\n",
      "Correct  Name: p2\n",
      "Person 0 : 16 p2\n",
      "Correct  Name: p2\n",
      "Person 0 : 17 p20\n",
      "Correct  Name: p20\n",
      "Person 0 : 17 p20\n",
      "Correct  Name: p20\n",
      "Person 0 : 18 p21\n",
      "Correct  Name: p21\n",
      "Person 0 : 18 p21\n",
      "Correct  Name: p21\n",
      "Person 0 : 19 p22\n",
      "Correct  Name: p22\n",
      "Person 0 : 19 p22\n",
      "Correct  Name: p22\n",
      "Person 0 : 20 p23\n",
      "Correct  Name: p23\n",
      "Person 0 : 20 p23\n",
      "Correct  Name: p23\n",
      "Person 0 : 21 p24\n",
      "Correct  Name: p24\n",
      "Person 0 : 21 p24\n",
      "Correct  Name: p24\n",
      "Person 0 : 22 p25\n",
      "Correct  Name: p25\n",
      "Person 0 : 22 p25\n",
      "Correct  Name: p25\n",
      "Person 0 : 33 p35\n",
      "Wrong:  Real Name: p26 Rec Y: 23 Find Name: p35\n",
      "Person 0 : 23 p26\n",
      "Correct  Name: p26\n",
      "Person 0 : 24 p27\n",
      "Correct  Name: p27\n",
      "Person 0 : 36 p38\n",
      "Wrong:  Real Name: p27 Rec Y: 24 Find Name: p38\n",
      "Person 0 : 25 p28\n",
      "Correct  Name: p28\n",
      "Person 0 : 25 p28\n",
      "Correct  Name: p28\n",
      "Person 0 : 6 p10\n",
      "Wrong:  Real Name: p29 Rec Y: 26 Find Name: p10\n",
      "Person 0 : 17 p20\n",
      "Wrong:  Real Name: p29 Rec Y: 26 Find Name: p20\n",
      "Person 0 : 27 p3\n",
      "Correct  Name: p3\n",
      "Person 0 : 27 p3\n",
      "Correct  Name: p3\n",
      "Person 0 : 28 p30\n",
      "Correct  Name: p30\n",
      "Person 0 : 28 p30\n",
      "Correct  Name: p30\n",
      "Person 0 : 29 p31\n",
      "Correct  Name: p31\n",
      "Person 0 : 29 p31\n",
      "Correct  Name: p31\n",
      "Person 0 : 30 p32\n",
      "Correct  Name: p32\n",
      "Person 0 : 30 p32\n",
      "Correct  Name: p32\n",
      "Person 0 : 31 p33\n",
      "Correct  Name: p33\n",
      "Person 0 : 31 p33\n",
      "Correct  Name: p33\n",
      "Person 0 : 32 p34\n",
      "Correct  Name: p34\n",
      "Person 0 : 32 p34\n",
      "Correct  Name: p34\n",
      "Person 0 : 33 p35\n",
      "Correct  Name: p35\n",
      "Person 0 : 33 p35\n",
      "Correct  Name: p35\n",
      "Person 0 : 34 p36\n",
      "Correct  Name: p36\n",
      "Person 0 : 34 p36\n",
      "Correct  Name: p36\n",
      "Person 0 : 35 p37\n",
      "Correct  Name: p37\n",
      "Person 0 : 35 p37\n",
      "Correct  Name: p37\n",
      "Person 0 : 36 p38\n",
      "Correct  Name: p38\n",
      "Person 0 : 36 p38\n",
      "Correct  Name: p38\n",
      "Person 0 : 37 p4\n",
      "Correct  Name: p4\n",
      "Person 0 : 37 p4\n",
      "Correct  Name: p4\n",
      "Person 0 : 38 p5\n",
      "Correct  Name: p5\n",
      "Person 0 : 38 p5\n",
      "Correct  Name: p5\n",
      "Person 0 : 39 p6\n",
      "Correct  Name: p6\n",
      "Person 0 : 39 p6\n",
      "Correct  Name: p6\n",
      "Person 0 : 40 p7\n",
      "Correct  Name: p7\n",
      "Person 0 : 40 p7\n",
      "Correct  Name: p7\n",
      "Person 0 : 41 p8\n",
      "Correct  Name: p8\n",
      "Person 0 : 41 p8\n",
      "Correct  Name: p8\n",
      "Person 0 : 42 p9\n",
      "Correct  Name: p9\n",
      "Person 0 : 42 p9\n",
      "Correct  Name: p9\n",
      "Person 0 : 44 sai\n",
      "Correct  Name: sai\n",
      "Person 0 : 44 sai\n",
      "Correct  Name: sai\n",
      "Person 0 : 44 sai\n",
      "Correct  Name: sai\n",
      "Person 0 : 44 sai\n",
      "Correct  Name: sai\n",
      "Person 0 : 46 Sarvesh\n",
      "Wrong:  Real Name: Sanjay Rec Y: 45 Find Name: Sarvesh\n",
      "Person 0 : 45 Sanjay\n",
      "Correct  Name: Sanjay\n",
      "Person 0 : 46 Sarvesh\n",
      "Correct  Name: Sarvesh\n",
      "Person 0 : 43 prathosh\n",
      "Wrong:  Real Name: Vijay-Ananth Rec Y: 47 Find Name: prathosh\n",
      "Person 0 : 47 Vijay-Ananth\n",
      "Correct  Name: Vijay-Ananth\n",
      "Person 0 : 48 yashwant\n",
      "Correct  Name: yashwant\n",
      "Person 0 : 48 yashwant\n",
      "Correct  Name: yashwant\n",
      "Correct 89\n",
      "Wrong 9\n",
      "Total Test Images 98\n",
      "Percent 90.81632653061224\n",
      "Total Person 49\n",
      "Total Train Images 392\n"
     ]
    }
   ],
   "source": [
    "correct = 0\n",
    "wrong = 0\n",
    "i = 0\n",
    "net_time_of_reco = 0\n",
    "\n",
    "for img_path in images_names_for_test:\n",
    "\n",
    "    find_name = my_algo.recognize_face(my_algo.new_cord(img_path, img_height, img_width))\n",
    "    rec_y = y_for_test[i]\n",
    "    rec_name = target_names[rec_y]\n",
    "    if find_name is rec_name:\n",
    "        correct += 1\n",
    "        print(\"Correct\", \" Name:\", find_name)\n",
    "    else:\n",
    "        wrong +=1\n",
    "        print(\"Wrong:\", \" Real Name:\", rec_name, \"Rec Y:\", rec_y, \"Find Name:\", find_name)\n",
    "    i+=1\n",
    "\n",
    "print(\"Correct\", correct)\n",
    "print(\"Wrong\", wrong)\n",
    "print(\"Total Test Images\", i)\n",
    "print(\"Percent\", correct/i*100)\n",
    "print(\"Total Person\", len(target_names))\n",
    "print(\"Total Train Images\", no_of_images_of_one_person * len(target_names))"
   ]
  },
  {
   "cell_type": "markdown",
   "id": "f496a21888c18079",
   "metadata": {
    "collapsed": false
   },
   "source": [
    "--- \n",
    "### Recoginizing Face\n",
    "---"
   ]
  },
  {
   "cell_type": "code",
   "execution_count": null,
   "id": "b694c8e4e65ad8ce",
   "metadata": {
    "ExecuteTime": {
     "end_time": "2024-06-03T09:39:23.057361Z",
     "start_time": "2024-06-03T09:39:23.057361Z"
    },
    "collapsed": false
   },
   "outputs": [],
   "source": [
    "def image_detection(img_path):\n",
    "    find_name = my_algo.recognize_face(my_algo.new_cord(img_path, img_height, img_width))\n",
    "    print(find_name)\n",
    "img_path='images/Test/nila1.jpg'\n",
    "image_detection(img_path)"
   ]
  },
  {
   "cell_type": "code",
   "execution_count": null,
   "id": "11154cc20a2f9b9c",
   "metadata": {
    "collapsed": false
   },
   "outputs": [],
   "source": []
  }
 ],
 "metadata": {
  "kernelspec": {
   "display_name": "Python 3",
   "language": "python",
   "name": "python3"
  },
  "language_info": {
   "codemirror_mode": {
    "name": "ipython",
    "version": 2
   },
   "file_extension": ".py",
   "mimetype": "text/x-python",
   "name": "python",
   "nbconvert_exporter": "python",
   "pygments_lexer": "ipython2",
   "version": "3.12.6"
  }
 },
 "nbformat": 4,
 "nbformat_minor": 5
}
